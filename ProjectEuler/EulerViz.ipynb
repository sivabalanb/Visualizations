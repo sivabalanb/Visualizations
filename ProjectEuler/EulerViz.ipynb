{
 "cells": [
  {
   "cell_type": "code",
   "execution_count": 1,
   "metadata": {
    "collapsed": true
   },
   "outputs": [],
   "source": [
    "import pandas as pd"
   ]
  },
  {
   "cell_type": "code",
   "execution_count": 2,
   "metadata": {
    "collapsed": true
   },
   "outputs": [],
   "source": [
    "euler = pd.read_csv(\"data.csv\")"
   ]
  },
  {
   "cell_type": "code",
   "execution_count": 3,
   "metadata": {},
   "outputs": [
    {
     "data": {
      "text/html": [
       "<div>\n",
       "<style>\n",
       "    .dataframe thead tr:only-child th {\n",
       "        text-align: right;\n",
       "    }\n",
       "\n",
       "    .dataframe thead th {\n",
       "        text-align: left;\n",
       "    }\n",
       "\n",
       "    .dataframe tbody tr th {\n",
       "        vertical-align: top;\n",
       "    }\n",
       "</style>\n",
       "<table border=\"1\" class=\"dataframe\">\n",
       "  <thead>\n",
       "    <tr style=\"text-align: right;\">\n",
       "      <th></th>\n",
       "      <th>Country</th>\n",
       "      <th>Total Number of Members</th>\n",
       "      <th>Percentage of Members at Level 1+</th>\n",
       "      <th>Mean Percentage of Problems Solved</th>\n",
       "    </tr>\n",
       "  </thead>\n",
       "  <tbody>\n",
       "    <tr>\n",
       "      <th>0</th>\n",
       "      <td>Afghanistan   Afghanistan</td>\n",
       "      <td>65</td>\n",
       "      <td>18.50%</td>\n",
       "      <td>2.90%</td>\n",
       "    </tr>\n",
       "    <tr>\n",
       "      <th>1</th>\n",
       "      <td>Albania   Albania</td>\n",
       "      <td>120</td>\n",
       "      <td>30.80%</td>\n",
       "      <td>3.60%</td>\n",
       "    </tr>\n",
       "    <tr>\n",
       "      <th>2</th>\n",
       "      <td>Algeria   Algeria</td>\n",
       "      <td>184</td>\n",
       "      <td>22.80%</td>\n",
       "      <td>3.30%</td>\n",
       "    </tr>\n",
       "    <tr>\n",
       "      <th>3</th>\n",
       "      <td>Andorra   Andorra</td>\n",
       "      <td>34</td>\n",
       "      <td>32.40%</td>\n",
       "      <td>3.90%</td>\n",
       "    </tr>\n",
       "    <tr>\n",
       "      <th>4</th>\n",
       "      <td>Angola   Angola</td>\n",
       "      <td>16</td>\n",
       "      <td>25%</td>\n",
       "      <td>2.90%</td>\n",
       "    </tr>\n",
       "  </tbody>\n",
       "</table>\n",
       "</div>"
      ],
      "text/plain": [
       "                     Country  Total Number of Members  \\\n",
       "0  Afghanistan   Afghanistan                       65   \n",
       "1          Albania   Albania                      120   \n",
       "2          Algeria   Algeria                      184   \n",
       "3          Andorra   Andorra                       34   \n",
       "4            Angola   Angola                       16   \n",
       "\n",
       "  Percentage of Members at Level 1+ Mean Percentage of Problems Solved  \n",
       "0                            18.50%                              2.90%  \n",
       "1                            30.80%                              3.60%  \n",
       "2                            22.80%                              3.30%  \n",
       "3                            32.40%                              3.90%  \n",
       "4                               25%                              2.90%  "
      ]
     },
     "execution_count": 3,
     "metadata": {},
     "output_type": "execute_result"
    }
   ],
   "source": [
    "euler.head()"
   ]
  },
  {
   "cell_type": "code",
   "execution_count": 15,
   "metadata": {},
   "outputs": [
    {
     "data": {
      "text/html": [
       "<div>\n",
       "<style>\n",
       "    .dataframe thead tr:only-child th {\n",
       "        text-align: right;\n",
       "    }\n",
       "\n",
       "    .dataframe thead th {\n",
       "        text-align: left;\n",
       "    }\n",
       "\n",
       "    .dataframe tbody tr th {\n",
       "        vertical-align: top;\n",
       "    }\n",
       "</style>\n",
       "<table border=\"1\" class=\"dataframe\">\n",
       "  <thead>\n",
       "    <tr style=\"text-align: right;\">\n",
       "      <th></th>\n",
       "      <th>Country</th>\n",
       "      <th>Total Number of Members</th>\n",
       "      <th>Percentage of Members at Level 1+</th>\n",
       "      <th>Mean Percentage of Problems Solved</th>\n",
       "    </tr>\n",
       "  </thead>\n",
       "  <tbody>\n",
       "    <tr>\n",
       "      <th>206</th>\n",
       "      <td>USA   USA</td>\n",
       "      <td>40991</td>\n",
       "      <td>38.40%</td>\n",
       "      <td>5%</td>\n",
       "    </tr>\n",
       "    <tr>\n",
       "      <th>89</th>\n",
       "      <td>India   India</td>\n",
       "      <td>12102</td>\n",
       "      <td>24.40%</td>\n",
       "      <td>3.20%</td>\n",
       "    </tr>\n",
       "    <tr>\n",
       "      <th>73</th>\n",
       "      <td>Germany   Germany</td>\n",
       "      <td>8491</td>\n",
       "      <td>40.10%</td>\n",
       "      <td>5.30%</td>\n",
       "    </tr>\n",
       "    <tr>\n",
       "      <th>60</th>\n",
       "      <td>England   England</td>\n",
       "      <td>7880</td>\n",
       "      <td>37.20%</td>\n",
       "      <td>4.90%</td>\n",
       "    </tr>\n",
       "    <tr>\n",
       "      <th>32</th>\n",
       "      <td>Canada   Canada</td>\n",
       "      <td>6656</td>\n",
       "      <td>37.40%</td>\n",
       "      <td>4.80%</td>\n",
       "    </tr>\n",
       "    <tr>\n",
       "      <th>39</th>\n",
       "      <td>China   China</td>\n",
       "      <td>5637</td>\n",
       "      <td>40.90%</td>\n",
       "      <td>5.60%</td>\n",
       "    </tr>\n",
       "    <tr>\n",
       "      <th>68</th>\n",
       "      <td>France   France</td>\n",
       "      <td>5110</td>\n",
       "      <td>45.20%</td>\n",
       "      <td>6.40%</td>\n",
       "    </tr>\n",
       "    <tr>\n",
       "      <th>161</th>\n",
       "      <td>Russia   Russia</td>\n",
       "      <td>4525</td>\n",
       "      <td>38.40%</td>\n",
       "      <td>5.60%</td>\n",
       "    </tr>\n",
       "    <tr>\n",
       "      <th>188</th>\n",
       "      <td>Sweden   Sweden</td>\n",
       "      <td>4130</td>\n",
       "      <td>39.20%</td>\n",
       "      <td>5.10%</td>\n",
       "    </tr>\n",
       "    <tr>\n",
       "      <th>139</th>\n",
       "      <td>Netherlands   Netherlands</td>\n",
       "      <td>3902</td>\n",
       "      <td>43.70%</td>\n",
       "      <td>5.90%</td>\n",
       "    </tr>\n",
       "  </tbody>\n",
       "</table>\n",
       "</div>"
      ],
      "text/plain": [
       "                       Country  Total Number of Members  \\\n",
       "206                  USA   USA                    40991   \n",
       "89               India   India                    12102   \n",
       "73           Germany   Germany                     8491   \n",
       "60           England   England                     7880   \n",
       "32             Canada   Canada                     6656   \n",
       "39               China   China                     5637   \n",
       "68             France   France                     5110   \n",
       "161            Russia   Russia                     4525   \n",
       "188            Sweden   Sweden                     4130   \n",
       "139  Netherlands   Netherlands                     3902   \n",
       "\n",
       "    Percentage of Members at Level 1+ Mean Percentage of Problems Solved  \n",
       "206                            38.40%                                 5%  \n",
       "89                             24.40%                              3.20%  \n",
       "73                             40.10%                              5.30%  \n",
       "60                             37.20%                              4.90%  \n",
       "32                             37.40%                              4.80%  \n",
       "39                             40.90%                              5.60%  \n",
       "68                             45.20%                              6.40%  \n",
       "161                            38.40%                              5.60%  \n",
       "188                            39.20%                              5.10%  \n",
       "139                            43.70%                              5.90%  "
      ]
     },
     "execution_count": 15,
     "metadata": {},
     "output_type": "execute_result"
    }
   ],
   "source": [
    "euler[\"Total Number of Members\"]\n",
    "\n",
    "Total = euler.sort_values(by=\"Total Number of Members\", ascending=False, na_position='first')\n",
    "\n",
    "Total.head(10)"
   ]
  },
  {
   "cell_type": "code",
   "execution_count": null,
   "metadata": {
    "collapsed": true
   },
   "outputs": [],
   "source": []
  },
  {
   "cell_type": "code",
   "execution_count": null,
   "metadata": {
    "collapsed": true
   },
   "outputs": [],
   "source": []
  },
  {
   "cell_type": "code",
   "execution_count": null,
   "metadata": {
    "collapsed": true
   },
   "outputs": [],
   "source": []
  },
  {
   "cell_type": "code",
   "execution_count": null,
   "metadata": {
    "collapsed": true
   },
   "outputs": [],
   "source": []
  },
  {
   "cell_type": "code",
   "execution_count": null,
   "metadata": {
    "collapsed": true
   },
   "outputs": [],
   "source": []
  },
  {
   "cell_type": "code",
   "execution_count": null,
   "metadata": {
    "collapsed": true
   },
   "outputs": [],
   "source": []
  },
  {
   "cell_type": "code",
   "execution_count": null,
   "metadata": {
    "collapsed": true
   },
   "outputs": [],
   "source": []
  }
 ],
 "metadata": {
  "kernelspec": {
   "display_name": "Python 3",
   "language": "python",
   "name": "python3"
  },
  "language_info": {
   "codemirror_mode": {
    "name": "ipython",
    "version": 3
   },
   "file_extension": ".py",
   "mimetype": "text/x-python",
   "name": "python",
   "nbconvert_exporter": "python",
   "pygments_lexer": "ipython3",
   "version": "3.6.4"
  }
 },
 "nbformat": 4,
 "nbformat_minor": 2
}
