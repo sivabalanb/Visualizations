{
 "cells": [
  {
   "cell_type": "code",
   "execution_count": 1,
   "metadata": {
    "collapsed": true
   },
   "outputs": [],
   "source": [
    "import pandas as pd\n",
    "import numpy as np"
   ]
  },
  {
   "cell_type": "code",
   "execution_count": 3,
   "metadata": {},
   "outputs": [
    {
     "name": "stderr",
     "output_type": "stream",
     "text": [
      "/Users/siva/anaconda3/lib/python3.6/site-packages/IPython/core/interactiveshell.py:2698: DtypeWarning: Columns (0,2,7) have mixed types. Specify dtype option on import or set low_memory=False.\n",
      "  interactivity=interactivity, compiler=compiler, result=result)\n"
     ]
    }
   ],
   "source": [
    "train = pd.read_csv(\"Train_details_22122017.csv\")"
   ]
  },
  {
   "cell_type": "code",
   "execution_count": 4,
   "metadata": {},
   "outputs": [
    {
     "data": {
      "text/html": [
       "<div>\n",
       "<style>\n",
       "    .dataframe thead tr:only-child th {\n",
       "        text-align: right;\n",
       "    }\n",
       "\n",
       "    .dataframe thead th {\n",
       "        text-align: left;\n",
       "    }\n",
       "\n",
       "    .dataframe tbody tr th {\n",
       "        vertical-align: top;\n",
       "    }\n",
       "</style>\n",
       "<table border=\"1\" class=\"dataframe\">\n",
       "  <thead>\n",
       "    <tr style=\"text-align: right;\">\n",
       "      <th></th>\n",
       "      <th>Train No</th>\n",
       "      <th>Train Name</th>\n",
       "      <th>SEQ</th>\n",
       "      <th>Station Code</th>\n",
       "      <th>Station Name</th>\n",
       "      <th>Arrival time</th>\n",
       "      <th>Departure Time</th>\n",
       "      <th>Distance</th>\n",
       "      <th>Source Station</th>\n",
       "      <th>Source Station Name</th>\n",
       "      <th>Destination Station</th>\n",
       "      <th>Destination Station Name</th>\n",
       "    </tr>\n",
       "  </thead>\n",
       "  <tbody>\n",
       "    <tr>\n",
       "      <th>0</th>\n",
       "      <td>107</td>\n",
       "      <td>SWV-MAO-VLNK</td>\n",
       "      <td>1</td>\n",
       "      <td>SWV</td>\n",
       "      <td>SAWANTWADI R</td>\n",
       "      <td>00:00:00</td>\n",
       "      <td>10:25:00</td>\n",
       "      <td>0</td>\n",
       "      <td>SWV</td>\n",
       "      <td>SAWANTWADI ROAD</td>\n",
       "      <td>MAO</td>\n",
       "      <td>MADGOAN JN.</td>\n",
       "    </tr>\n",
       "    <tr>\n",
       "      <th>1</th>\n",
       "      <td>107</td>\n",
       "      <td>SWV-MAO-VLNK</td>\n",
       "      <td>2</td>\n",
       "      <td>THVM</td>\n",
       "      <td>THIVIM</td>\n",
       "      <td>11:06:00</td>\n",
       "      <td>11:08:00</td>\n",
       "      <td>32</td>\n",
       "      <td>SWV</td>\n",
       "      <td>SAWANTWADI ROAD</td>\n",
       "      <td>MAO</td>\n",
       "      <td>MADGOAN JN.</td>\n",
       "    </tr>\n",
       "    <tr>\n",
       "      <th>2</th>\n",
       "      <td>107</td>\n",
       "      <td>SWV-MAO-VLNK</td>\n",
       "      <td>3</td>\n",
       "      <td>KRMI</td>\n",
       "      <td>KARMALI</td>\n",
       "      <td>11:28:00</td>\n",
       "      <td>11:30:00</td>\n",
       "      <td>49</td>\n",
       "      <td>SWV</td>\n",
       "      <td>SAWANTWADI ROAD</td>\n",
       "      <td>MAO</td>\n",
       "      <td>MADGOAN JN.</td>\n",
       "    </tr>\n",
       "    <tr>\n",
       "      <th>3</th>\n",
       "      <td>107</td>\n",
       "      <td>SWV-MAO-VLNK</td>\n",
       "      <td>4</td>\n",
       "      <td>MAO</td>\n",
       "      <td>MADGOAN JN.</td>\n",
       "      <td>12:10:00</td>\n",
       "      <td>00:00:00</td>\n",
       "      <td>78</td>\n",
       "      <td>SWV</td>\n",
       "      <td>SAWANTWADI ROAD</td>\n",
       "      <td>MAO</td>\n",
       "      <td>MADGOAN JN.</td>\n",
       "    </tr>\n",
       "    <tr>\n",
       "      <th>4</th>\n",
       "      <td>108</td>\n",
       "      <td>VLNK-MAO-SWV</td>\n",
       "      <td>1</td>\n",
       "      <td>MAO</td>\n",
       "      <td>MADGOAN JN.</td>\n",
       "      <td>00:00:00</td>\n",
       "      <td>20:30:00</td>\n",
       "      <td>0</td>\n",
       "      <td>MAO</td>\n",
       "      <td>MADGOAN JN.</td>\n",
       "      <td>SWV</td>\n",
       "      <td>SAWANTWADI ROAD</td>\n",
       "    </tr>\n",
       "  </tbody>\n",
       "</table>\n",
       "</div>"
      ],
      "text/plain": [
       "  Train No    Train Name SEQ Station Code  Station Name Arrival time  \\\n",
       "0      107  SWV-MAO-VLNK   1          SWV  SAWANTWADI R     00:00:00   \n",
       "1      107  SWV-MAO-VLNK   2         THVM        THIVIM     11:06:00   \n",
       "2      107  SWV-MAO-VLNK   3         KRMI       KARMALI     11:28:00   \n",
       "3      107  SWV-MAO-VLNK   4          MAO   MADGOAN JN.     12:10:00   \n",
       "4      108  VLNK-MAO-SWV   1          MAO   MADGOAN JN.     00:00:00   \n",
       "\n",
       "  Departure Time Distance Source Station Source Station Name  \\\n",
       "0       10:25:00        0            SWV     SAWANTWADI ROAD   \n",
       "1       11:08:00       32            SWV     SAWANTWADI ROAD   \n",
       "2       11:30:00       49            SWV     SAWANTWADI ROAD   \n",
       "3       00:00:00       78            SWV     SAWANTWADI ROAD   \n",
       "4       20:30:00        0            MAO         MADGOAN JN.   \n",
       "\n",
       "  Destination Station Destination Station Name  \n",
       "0                 MAO              MADGOAN JN.  \n",
       "1                 MAO              MADGOAN JN.  \n",
       "2                 MAO              MADGOAN JN.  \n",
       "3                 MAO              MADGOAN JN.  \n",
       "4                 SWV          SAWANTWADI ROAD  "
      ]
     },
     "execution_count": 4,
     "metadata": {},
     "output_type": "execute_result"
    }
   ],
   "source": [
    "train.head()"
   ]
  },
  {
   "cell_type": "code",
   "execution_count": 19,
   "metadata": {},
   "outputs": [
    {
     "name": "stdout",
     "output_type": "stream",
     "text": [
      "<class 'pandas.core.frame.DataFrame'>\n",
      "RangeIndex: 186124 entries, 0 to 186123\n",
      "Data columns (total 12 columns):\n",
      "Train No                    186124 non-null category\n",
      "Train Name                  186124 non-null category\n",
      "SEQ                         186124 non-null object\n",
      "Station Code                186124 non-null object\n",
      "Station Name                186124 non-null object\n",
      "Arrival time                186119 non-null object\n",
      "Departure Time              186119 non-null object\n",
      "Distance                    186119 non-null object\n",
      "Source Station              186114 non-null category\n",
      "Source Station Name         186114 non-null category\n",
      "Destination Station         186114 non-null object\n",
      "Destination Station Name    186114 non-null category\n",
      "dtypes: category(5), object(7)\n",
      "memory usage: 12.6+ MB\n"
     ]
    }
   ],
   "source": [
    "train.info()"
   ]
  },
  {
   "cell_type": "code",
   "execution_count": 18,
   "metadata": {},
   "outputs": [],
   "source": [
    "train[\"Destination Station Name\"] = train[\"Destination Station Name\"].astype(\"category\")"
   ]
  },
  {
   "cell_type": "code",
   "execution_count": null,
   "metadata": {
    "collapsed": true
   },
   "outputs": [],
   "source": []
  },
  {
   "cell_type": "code",
   "execution_count": null,
   "metadata": {
    "collapsed": true
   },
   "outputs": [],
   "source": []
  },
  {
   "cell_type": "code",
   "execution_count": null,
   "metadata": {
    "collapsed": true
   },
   "outputs": [],
   "source": []
  },
  {
   "cell_type": "code",
   "execution_count": null,
   "metadata": {
    "collapsed": true
   },
   "outputs": [],
   "source": []
  },
  {
   "cell_type": "code",
   "execution_count": null,
   "metadata": {
    "collapsed": true
   },
   "outputs": [],
   "source": []
  },
  {
   "cell_type": "code",
   "execution_count": null,
   "metadata": {
    "collapsed": true
   },
   "outputs": [],
   "source": []
  },
  {
   "cell_type": "code",
   "execution_count": null,
   "metadata": {
    "collapsed": true
   },
   "outputs": [],
   "source": []
  },
  {
   "cell_type": "code",
   "execution_count": null,
   "metadata": {
    "collapsed": true
   },
   "outputs": [],
   "source": []
  },
  {
   "cell_type": "code",
   "execution_count": null,
   "metadata": {
    "collapsed": true
   },
   "outputs": [],
   "source": []
  },
  {
   "cell_type": "code",
   "execution_count": null,
   "metadata": {
    "collapsed": true
   },
   "outputs": [],
   "source": []
  },
  {
   "cell_type": "code",
   "execution_count": null,
   "metadata": {
    "collapsed": true
   },
   "outputs": [],
   "source": []
  },
  {
   "cell_type": "code",
   "execution_count": null,
   "metadata": {
    "collapsed": true
   },
   "outputs": [],
   "source": []
  },
  {
   "cell_type": "code",
   "execution_count": null,
   "metadata": {
    "collapsed": true
   },
   "outputs": [],
   "source": []
  },
  {
   "cell_type": "code",
   "execution_count": null,
   "metadata": {
    "collapsed": true
   },
   "outputs": [],
   "source": []
  }
 ],
 "metadata": {
  "kernelspec": {
   "display_name": "Python 3",
   "language": "python",
   "name": "python3"
  },
  "language_info": {
   "codemirror_mode": {
    "name": "ipython",
    "version": 3
   },
   "file_extension": ".py",
   "mimetype": "text/x-python",
   "name": "python",
   "nbconvert_exporter": "python",
   "pygments_lexer": "ipython3",
   "version": "3.6.4"
  }
 },
 "nbformat": 4,
 "nbformat_minor": 2
}
