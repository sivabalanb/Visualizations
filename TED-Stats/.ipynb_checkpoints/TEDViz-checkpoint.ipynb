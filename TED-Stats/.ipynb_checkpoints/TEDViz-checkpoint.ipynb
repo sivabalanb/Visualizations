{
 "cells": [
  {
   "cell_type": "code",
   "execution_count": 2,
   "metadata": {
    "collapsed": true
   },
   "outputs": [],
   "source": [
    "import pandas as pd"
   ]
  },
  {
   "cell_type": "code",
   "execution_count": 7,
   "metadata": {},
   "outputs": [],
   "source": [
    "stats = pd.read_csv(\"TEDViz.csv\", index_col=\"Date\", parse_dates=True)"
   ]
  },
  {
   "cell_type": "code",
   "execution_count": 6,
   "metadata": {},
   "outputs": [
    {
     "data": {
      "text/html": [
       "<div>\n",
       "<style>\n",
       "    .dataframe thead tr:only-child th {\n",
       "        text-align: right;\n",
       "    }\n",
       "\n",
       "    .dataframe thead th {\n",
       "        text-align: left;\n",
       "    }\n",
       "\n",
       "    .dataframe tbody tr th {\n",
       "        vertical-align: top;\n",
       "    }\n",
       "</style>\n",
       "<table border=\"1\" class=\"dataframe\">\n",
       "  <thead>\n",
       "    <tr style=\"text-align: right;\">\n",
       "      <th></th>\n",
       "      <th>Date</th>\n",
       "      <th>TED_Subscribers</th>\n",
       "      <th>TED_Views</th>\n",
       "      <th>TEDx_Subscribers</th>\n",
       "      <th>TEDx_Views</th>\n",
       "      <th>TEDEd_Subscribers</th>\n",
       "      <th>TEDEd_Views</th>\n",
       "    </tr>\n",
       "  </thead>\n",
       "  <tbody>\n",
       "    <tr>\n",
       "      <th>0</th>\n",
       "      <td>12/27/17</td>\n",
       "      <td>8,640,554</td>\n",
       "      <td>949,556,620</td>\n",
       "      <td>10,132,388</td>\n",
       "      <td>1,977,817,137</td>\n",
       "      <td>5,599,119</td>\n",
       "      <td>806,611,236</td>\n",
       "    </tr>\n",
       "    <tr>\n",
       "      <th>1</th>\n",
       "      <td>12/28/17</td>\n",
       "      <td>8,648,717</td>\n",
       "      <td>950,180,787</td>\n",
       "      <td>10,145,303</td>\n",
       "      <td>1,980,224,258</td>\n",
       "      <td>5,605,097</td>\n",
       "      <td>807,290,552</td>\n",
       "    </tr>\n",
       "    <tr>\n",
       "      <th>2</th>\n",
       "      <td>12/29/17</td>\n",
       "      <td>8,656,213</td>\n",
       "      <td>950,778,199</td>\n",
       "      <td>10,162,828</td>\n",
       "      <td>1,982,747,490</td>\n",
       "      <td>5,610,252</td>\n",
       "      <td>807,930,129</td>\n",
       "    </tr>\n",
       "    <tr>\n",
       "      <th>3</th>\n",
       "      <td>12/30/17</td>\n",
       "      <td>8,664,163</td>\n",
       "      <td>951,384,860</td>\n",
       "      <td>10,178,795</td>\n",
       "      <td>1,985,296,682</td>\n",
       "      <td>5,616,612</td>\n",
       "      <td>808,618,615</td>\n",
       "    </tr>\n",
       "    <tr>\n",
       "      <th>4</th>\n",
       "      <td>12/31/17</td>\n",
       "      <td>8,670,817</td>\n",
       "      <td>951,916,621</td>\n",
       "      <td>10,190,566</td>\n",
       "      <td>1,987,445,371</td>\n",
       "      <td>5,621,778</td>\n",
       "      <td>809,235,618</td>\n",
       "    </tr>\n",
       "  </tbody>\n",
       "</table>\n",
       "</div>"
      ],
      "text/plain": [
       "       Date TED_Subscribers    TED_Views TEDx_Subscribers     TEDx_Views  \\\n",
       "0  12/27/17       8,640,554  949,556,620       10,132,388  1,977,817,137   \n",
       "1  12/28/17       8,648,717  950,180,787       10,145,303  1,980,224,258   \n",
       "2  12/29/17       8,656,213  950,778,199       10,162,828  1,982,747,490   \n",
       "3  12/30/17       8,664,163  951,384,860       10,178,795  1,985,296,682   \n",
       "4  12/31/17       8,670,817  951,916,621       10,190,566  1,987,445,371   \n",
       "\n",
       "  TEDEd_Subscribers  TEDEd_Views  \n",
       "0         5,599,119  806,611,236  \n",
       "1         5,605,097  807,290,552  \n",
       "2         5,610,252  807,930,129  \n",
       "3         5,616,612  808,618,615  \n",
       "4         5,621,778  809,235,618  "
      ]
     },
     "execution_count": 6,
     "metadata": {},
     "output_type": "execute_result"
    }
   ],
   "source": [
    "stats.head()"
   ]
  },
  {
   "cell_type": "code",
   "execution_count": 12,
   "metadata": {},
   "outputs": [
    {
     "data": {
      "text/plain": [
       "Date\n",
       "2017-12-27    949556620\n",
       "2017-12-28    950180787\n",
       "2017-12-29    950778199\n",
       "2017-12-30    951384860\n",
       "2017-12-31    951916621\n",
       "2018-01-01    952497999\n",
       "2018-01-02    953295807\n",
       "2018-01-03    954173172\n",
       "2018-01-04    955013352\n",
       "2018-01-05    955909419\n",
       "2018-01-06    956690640\n",
       "2018-01-07    957515940\n",
       "2018-01-08    958351151\n",
       "2018-01-09    959130952\n",
       "2018-01-10    959941442\n",
       "2018-01-11    960741702\n",
       "2018-01-12    961499585\n",
       "2018-01-13    962218775\n",
       "2018-01-14    962929570\n",
       "2018-01-15    963713140\n",
       "2018-01-16    964453263\n",
       "2018-01-17    965237843\n",
       "2018-01-18    966004599\n",
       "2018-01-19    966750143\n",
       "2018-01-20    967442299\n",
       "2018-01-21    968139547\n",
       "2018-01-22    968905407\n",
       "2018-01-23    969664887\n",
       "2018-01-24    970467778\n",
       "2018-01-25    970726091\n",
       "Name: TED_Views, dtype: object"
      ]
     },
     "execution_count": 12,
     "metadata": {},
     "output_type": "execute_result"
    }
   ],
   "source": [
    "stats[\"TED_Views\"] = stats[\"TED_Views\"].str.replace(',', '')"
   ]
  },
  {
   "cell_type": "code",
   "execution_count": null,
   "metadata": {
    "collapsed": true
   },
   "outputs": [],
   "source": []
  },
  {
   "cell_type": "code",
   "execution_count": null,
   "metadata": {
    "collapsed": true
   },
   "outputs": [],
   "source": []
  },
  {
   "cell_type": "code",
   "execution_count": null,
   "metadata": {
    "collapsed": true
   },
   "outputs": [],
   "source": []
  },
  {
   "cell_type": "code",
   "execution_count": null,
   "metadata": {
    "collapsed": true
   },
   "outputs": [],
   "source": []
  },
  {
   "cell_type": "code",
   "execution_count": null,
   "metadata": {
    "collapsed": true
   },
   "outputs": [],
   "source": []
  },
  {
   "cell_type": "code",
   "execution_count": null,
   "metadata": {
    "collapsed": true
   },
   "outputs": [],
   "source": []
  },
  {
   "cell_type": "code",
   "execution_count": null,
   "metadata": {
    "collapsed": true
   },
   "outputs": [],
   "source": []
  },
  {
   "cell_type": "code",
   "execution_count": null,
   "metadata": {
    "collapsed": true
   },
   "outputs": [],
   "source": []
  },
  {
   "cell_type": "code",
   "execution_count": null,
   "metadata": {
    "collapsed": true
   },
   "outputs": [],
   "source": []
  },
  {
   "cell_type": "code",
   "execution_count": null,
   "metadata": {
    "collapsed": true
   },
   "outputs": [],
   "source": []
  },
  {
   "cell_type": "code",
   "execution_count": null,
   "metadata": {
    "collapsed": true
   },
   "outputs": [],
   "source": []
  },
  {
   "cell_type": "code",
   "execution_count": null,
   "metadata": {
    "collapsed": true
   },
   "outputs": [],
   "source": []
  },
  {
   "cell_type": "code",
   "execution_count": null,
   "metadata": {
    "collapsed": true
   },
   "outputs": [],
   "source": []
  },
  {
   "cell_type": "code",
   "execution_count": null,
   "metadata": {
    "collapsed": true
   },
   "outputs": [],
   "source": []
  },
  {
   "cell_type": "code",
   "execution_count": null,
   "metadata": {
    "collapsed": true
   },
   "outputs": [],
   "source": []
  },
  {
   "cell_type": "code",
   "execution_count": null,
   "metadata": {
    "collapsed": true
   },
   "outputs": [],
   "source": []
  }
 ],
 "metadata": {
  "kernelspec": {
   "display_name": "Python 3",
   "language": "python",
   "name": "python3"
  },
  "language_info": {
   "codemirror_mode": {
    "name": "ipython",
    "version": 3
   },
   "file_extension": ".py",
   "mimetype": "text/x-python",
   "name": "python",
   "nbconvert_exporter": "python",
   "pygments_lexer": "ipython3",
   "version": "3.6.4"
  }
 },
 "nbformat": 4,
 "nbformat_minor": 2
}
